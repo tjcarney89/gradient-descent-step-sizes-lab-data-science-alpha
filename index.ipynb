{
 "cells": [
  {
   "cell_type": "markdown",
   "metadata": {},
   "source": [
    "### Introduction"
   ]
  },
  {
   "cell_type": "markdown",
   "metadata": {},
   "source": [
    "In this lab, we'll practice applying gradient descent.  As we know gradient descent begins with an initial regression line, and moves to a \"best fit\" regression line by changing values of $m$ and $b$ and evaluating the RSS.  So far, we have illustrated this technique by changing the values of $b$ and evaluating the RSS.  In this lab, we will work through applying our technique by changing the value of $m$.  We'll have access to our [graph library](https://github.com/learn-co-curriculum/gradient-descent-step-sizes-lab/blob/master/graph.py), [linear equations library](https://github.com/learn-co-curriculum/gradient-descent-step-sizes-lab/blob/master/linear_equations.py), and [error library](https://github.com/learn-co-curriculum/gradient-descent-step-sizes-lab/blob/master/error.py) in completing this lab."
   ]
  },
  {
   "cell_type": "markdown",
   "metadata": {},
   "source": [
    "### Setting up our initial regression line"
   ]
  },
  {
   "cell_type": "markdown",
   "metadata": {},
   "source": [
    "Once again, we'll take take a look at revenues of movies to predict revenue. "
   ]
  },
  {
   "cell_type": "code",
   "execution_count": 1,
   "metadata": {
    "collapsed": true
   },
   "outputs": [],
   "source": [
    "first_show = {'budget': 100, 'revenue': 275}\n",
    "second_show = {'budget': 200, 'revenue': 300}\n",
    "third_show = {'budget': 400, 'revenue': 700}\n",
    "\n",
    "shows = [first_show, second_show, third_show]"
   ]
  },
  {
   "cell_type": "markdown",
   "metadata": {},
   "source": [
    "Using our data, and our `build_regression_line`, we get some values for an initial regression line."
   ]
  },
  {
   "cell_type": "code",
   "execution_count": 2,
   "metadata": {},
   "outputs": [
    {
     "data": {
      "text/plain": [
       "{'b': 133.33333333333326, 'm': 1.4166666666666667}"
      ]
     },
     "execution_count": 2,
     "metadata": {},
     "output_type": "execute_result"
    }
   ],
   "source": [
    "from linear_equations import build_regression_line\n",
    "\n",
    "budgets = list(map(lambda show: show['budget'], shows))\n",
    "revenues = list(map(lambda show: show['revenue'], shows))\n",
    "\n",
    "build_regression_line(budgets, revenues)"
   ]
  },
  {
   "cell_type": "code",
   "execution_count": 3,
   "metadata": {
    "collapsed": true
   },
   "outputs": [],
   "source": [
    "def regression_line(x):\n",
    "    return 1.417*x + 133.33"
   ]
  },
  {
   "cell_type": "markdown",
   "metadata": {},
   "source": [
    "Now using the `residual_sum_squares`, function, we calculate the RSS.  Let's take another look at it here: \n",
    "\n",
    "```python \n",
    "def residual_sum_squares(x_values, y_values, m, b):\n",
    "    return sum(squared_errors(x_values, y_values, m, b)) \n",
    "```"
   ]
  },
  {
   "cell_type": "markdown",
   "metadata": {},
   "source": [
    "### Building a cost curve"
   ]
  },
  {
   "cell_type": "markdown",
   "metadata": {},
   "source": [
    "Now let's use the RSS to build a cost curve.  Keeping the $b$ value fixed at $133.33$, write a function called `rss_values` that takes `x_values` and `y_values` to pass through our dataset, and various values of $m$, an initial $b$ value.  It outputs a dictionary with keys of `m_values` and `rss_values`, with each key pointing to a list of the corresponding values."
   ]
  },
  {
   "cell_type": "code",
   "execution_count": 21,
   "metadata": {
    "collapsed": true
   },
   "outputs": [],
   "source": [
    "from error import residual_sum_squares\n",
    "def rss_values(x_values, y_values, m_values, b):\n",
    "    pass"
   ]
  },
  {
   "cell_type": "code",
   "execution_count": 22,
   "metadata": {
    "collapsed": true
   },
   "outputs": [],
   "source": [
    "budgets = list(map(lambda show: show['budget'] ,shows))\n",
    "revenues = list(map(lambda show: show['revenue'] ,shows))\n",
    "initial_m_values = list(range(8, 19, 1))\n",
    "scaled_m_values = list(map(lambda initial_m_value: initial_m_value/10,initial_m_values))\n",
    "b_value = 133.33\n",
    "rss_values(budgets, revenues, scaled_m_values, b_value)\n",
    "\n",
    "# {'m_values': [0.8, 0.9, 1.0, 1.1, 1.2, 1.3, 1.4, 1.5, 1.6, 1.7, 1.8],\n",
    "#  'rss_values': [64693.76669999998,\n",
    "#   45559.96669999998,\n",
    "#   30626.166699999987,\n",
    "#   19892.36669999999,\n",
    "#   13358.5667,\n",
    "#   11024.766700000004,\n",
    "#   12890.96670000001,\n",
    "#   18957.166700000016,\n",
    "#   29223.36670000002,\n",
    "#   43689.566700000025,\n",
    "#   62355.76670000004]}\n"
   ]
  },
  {
   "cell_type": "markdown",
   "metadata": {},
   "source": [
    "Plotly provides for us a table chart, and we can pass the values generated from our `rss_values` function to create a table."
   ]
  },
  {
   "cell_type": "code",
   "execution_count": 23,
   "metadata": {},
   "outputs": [
    {
     "data": {
      "text/html": [
       "<script>requirejs.config({paths: { 'plotly': ['https://cdn.plot.ly/plotly-latest.min']},});if(!window.Plotly) {{require(['plotly'],function(plotly) {window.Plotly=plotly;});}}</script>"
      ],
      "text/vnd.plotly.v1+html": [
       "<script>requirejs.config({paths: { 'plotly': ['https://cdn.plot.ly/plotly-latest.min']},});if(!window.Plotly) {{require(['plotly'],function(plotly) {window.Plotly=plotly;});}}</script>"
      ]
     },
     "metadata": {},
     "output_type": "display_data"
    }
   ],
   "source": [
    "from plotly.offline import iplot, init_notebook_mode\n",
    "from graph import plot\n",
    "import plotly.graph_objs as go\n",
    "\n",
    "init_notebook_mode(connected=True)\n",
    "\n",
    "def plot_table(headers, columns):\n",
    "    trace_cost_chart = go.Table(\n",
    "        header=dict(values=headers,\n",
    "                    line = dict(color='#7D7F80'),\n",
    "                    fill = dict(color='#a1c3d1'),\n",
    "                    align = ['left'] * 5),\n",
    "        cells=dict(values=columns,\n",
    "                   line = dict(color='#7D7F80'),\n",
    "                   fill = dict(color='#EDFAFF'),\n",
    "                   align = ['left'] * 5))\n",
    "    plot([trace_cost_chart])"
   ]
  },
  {
   "cell_type": "code",
   "execution_count": 26,
   "metadata": {},
   "outputs": [
    {
     "data": {
      "application/vnd.plotly.v1+json": {
       "data": [
        {
         "cells": {
          "align": [
           "left",
           "left",
           "left",
           "left",
           "left"
          ],
          "fill": {
           "color": "#EDFAFF"
          },
          "line": {
           "color": "#7D7F80"
          },
          "values": []
         },
         "header": {
          "align": [
           "left",
           "left",
           "left",
           "left",
           "left"
          ],
          "fill": {
           "color": "#a1c3d1"
          },
          "line": {
           "color": "#7D7F80"
          },
          "values": [
           "M values",
           "RSS values"
          ]
         },
         "type": "table"
        }
       ],
       "layout": {}
      },
      "text/html": [
       "<div id=\"9ac67c50-26a0-4881-be25-7fe41ffd5388\" style=\"height: 525px; width: 100%;\" class=\"plotly-graph-div\"></div><script type=\"text/javascript\">require([\"plotly\"], function(Plotly) { window.PLOTLYENV=window.PLOTLYENV || {};window.PLOTLYENV.BASE_URL=\"https://plot.ly\";Plotly.newPlot(\"9ac67c50-26a0-4881-be25-7fe41ffd5388\", [{\"type\": \"table\", \"header\": {\"values\": [\"M values\", \"RSS values\"], \"line\": {\"color\": \"#7D7F80\"}, \"fill\": {\"color\": \"#a1c3d1\"}, \"align\": [\"left\", \"left\", \"left\", \"left\", \"left\"]}, \"cells\": {\"values\": [], \"line\": {\"color\": \"#7D7F80\"}, \"fill\": {\"color\": \"#EDFAFF\"}, \"align\": [\"left\", \"left\", \"left\", \"left\", \"left\"]}}], {}, {\"showLink\": true, \"linkText\": \"Export to plot.ly\"})});</script>"
      ],
      "text/vnd.plotly.v1+html": [
       "<div id=\"9ac67c50-26a0-4881-be25-7fe41ffd5388\" style=\"height: 525px; width: 100%;\" class=\"plotly-graph-div\"></div><script type=\"text/javascript\">require([\"plotly\"], function(Plotly) { window.PLOTLYENV=window.PLOTLYENV || {};window.PLOTLYENV.BASE_URL=\"https://plot.ly\";Plotly.newPlot(\"9ac67c50-26a0-4881-be25-7fe41ffd5388\", [{\"type\": \"table\", \"header\": {\"values\": [\"M values\", \"RSS values\"], \"line\": {\"color\": \"#7D7F80\"}, \"fill\": {\"color\": \"#a1c3d1\"}, \"align\": [\"left\", \"left\", \"left\", \"left\", \"left\"]}, \"cells\": {\"values\": [], \"line\": {\"color\": \"#7D7F80\"}, \"fill\": {\"color\": \"#EDFAFF\"}, \"align\": [\"left\", \"left\", \"left\", \"left\", \"left\"]}}], {}, {\"showLink\": true, \"linkText\": \"Export to plot.ly\"})});</script>"
      ]
     },
     "metadata": {},
     "output_type": "display_data"
    }
   ],
   "source": [
    "cost_chart = rss_values(budgets, revenues, scaled_m_values, b_value) or {}\n",
    "column_values = list(cost_chart.values())\n",
    "plot_table(headers = ['M values', 'RSS values'], columns=column_values)"
   ]
  },
  {
   "cell_type": "markdown",
   "metadata": {},
   "source": [
    "And let's plot this out using a a line chart."
   ]
  },
  {
   "cell_type": "code",
   "execution_count": null,
   "metadata": {
    "collapsed": true
   },
   "outputs": [],
   "source": [
    "from plotly.offline import iplot, init_notebook_mode\n",
    "init_notebook_mode(connected=True)\n",
    "from graph import plot, trace_values\n",
    "\n",
    "initial_m_values = list(range(8, 19, 1))\n",
    "scaled_m_values = list(map(lambda initial_m_value: initial_m_value/10,initial_m_values))\n",
    "cost_values = rss_values(budgets, revenues, scaled_m_values, 133.33)\n",
    "rss_trace = trace_values(cost_values['m_values'], cost_values['rss_values'], mode = 'line')\n",
    "plot([rss_trace])"
   ]
  },
  {
   "cell_type": "markdown",
   "metadata": {},
   "source": [
    "### Changing our step size"
   ]
  },
  {
   "cell_type": "markdown",
   "metadata": {},
   "source": [
    "In this section, we'll work up to building a gradient descent function that automatically changes our step size.  To get you started, we'll provide a function called `slope_at` that calculates the slope of the cost curve at a given point.  Here it is in action:"
   ]
  },
  {
   "cell_type": "code",
   "execution_count": 27,
   "metadata": {},
   "outputs": [
    {
     "data": {
      "text/plain": [
       "{'m': 1.7, 'slope': 165687.66666649026}"
      ]
     },
     "execution_count": 27,
     "metadata": {},
     "output_type": "execute_result"
    }
   ],
   "source": [
    "from helper import slope_at\n",
    "slope_at(budgets, revenues, 1.7, 133.33333333333326)"
   ]
  },
  {
   "cell_type": "code",
   "execution_count": 28,
   "metadata": {},
   "outputs": [
    {
     "data": {
      "text/plain": [
       "{'m': 1.3, 'slope': -2312.3333333387563}"
      ]
     },
     "execution_count": 28,
     "metadata": {},
     "output_type": "execute_result"
    }
   ],
   "source": [
    "slope_at(budgets, revenues, 1.3, 133.33333333333326)"
   ]
  },
  {
   "cell_type": "markdown",
   "metadata": {},
   "source": [
    "As you can see, it seems pretty accurate.  When the curve is steeper at $m = 1.7$, the slope is over 165,000.  When we near our flatline of our cost curve with our $m = 1.3$, our slope has a much smaller magnitude with a value of $-2312.3$. "
   ]
  },
  {
   "cell_type": "markdown",
   "metadata": {},
   "source": [
    "Ok, now we're ready to write a function called `updated_m`.  The function will allow us to move along our cost curve more efficiently, by taking a more efficient step size.  The `updated_m` function takes as arguments an initial value of $m$, a learning rate, and the `slope` of the cost curve at that value of $m$.  It returns an integer that equals the next value of `m`. "
   ]
  },
  {
   "cell_type": "code",
   "execution_count": 29,
   "metadata": {
    "collapsed": true
   },
   "outputs": [],
   "source": [
    "from error import residual_sum_squares\n",
    "\n",
    "def updated_m(m, learning_rate, cost_curve_slope):\n",
    "    pass"
   ]
  },
  {
   "cell_type": "code",
   "execution_count": 30,
   "metadata": {
    "collapsed": true
   },
   "outputs": [],
   "source": [
    "current_slope = slope_at(budgets, revenues, 1.7, 133.33333333333326)['slope']\n",
    "updated_m(1.7, .000001, current_slope)\n",
    "# 1.5343123333335096\n",
    "\n",
    "current_slope = slope_at(budgets, revenues, 1.534, 133.33333333333326)['slope']\n",
    "updated_m(1.534, .000001, current_slope)\n",
    "# 1.43803233333338\n",
    "\n",
    "current_slope = slope_at(budgets, revenues, 1.438, 133.33333333333326)['slope']\n",
    "updated_m(1.438, .000001, current_slope)\n",
    "# 1.3823523333332086"
   ]
  },
  {
   "cell_type": "markdown",
   "metadata": {},
   "source": [
    "Take a careful look at how we use the `updated_m` function.  By using our updated value of $m$ we are quickly converging towards an optimal value of $m$.   \n",
    "\n",
    "Now let's write another function called `gradient_descent_values`.  Similar to our `rss_values` function it outputs keys of `m_values` and `rss_values` each returning a list of corresponding values.  However, the inputs are now `x_values`, `y_values`, `number_of_steps`, and `b`.  The `number_of_steps` arguments represents the number of steps the function will take before the function stops.  It is the number of steps that are taken."
   ]
  },
  {
   "cell_type": "code",
   "execution_count": 31,
   "metadata": {
    "collapsed": true
   },
   "outputs": [],
   "source": [
    "def gradient_descent(x_values, y_values, steps, b, learning_rate, current_m):\n",
    "    pass"
   ]
  },
  {
   "cell_type": "code",
   "execution_count": 34,
   "metadata": {
    "collapsed": true
   },
   "outputs": [],
   "source": [
    "descent_steps = gradient_descent(budgets, revenues, 12, 133.33, learning_rate = .000001, current_m = 0) or []"
   ]
  },
  {
   "cell_type": "code",
   "execution_count": 35,
   "metadata": {},
   "outputs": [
    {
     "data": {
      "application/vnd.plotly.v1+json": {
       "data": [
        {
         "mode": "markers",
         "name": "data",
         "text": [],
         "x": [],
         "y": []
        }
       ],
       "layout": {}
      },
      "text/html": [
       "<div id=\"94e846e3-e299-415e-8adb-cf9ef7d2cb05\" style=\"height: 525px; width: 100%;\" class=\"plotly-graph-div\"></div><script type=\"text/javascript\">require([\"plotly\"], function(Plotly) { window.PLOTLYENV=window.PLOTLYENV || {};window.PLOTLYENV.BASE_URL=\"https://plot.ly\";Plotly.newPlot(\"94e846e3-e299-415e-8adb-cf9ef7d2cb05\", [{\"x\": [], \"y\": [], \"mode\": \"markers\", \"name\": \"data\", \"text\": []}], {}, {\"showLink\": true, \"linkText\": \"Export to plot.ly\"})});</script>"
      ],
      "text/vnd.plotly.v1+html": [
       "<div id=\"94e846e3-e299-415e-8adb-cf9ef7d2cb05\" style=\"height: 525px; width: 100%;\" class=\"plotly-graph-div\"></div><script type=\"text/javascript\">require([\"plotly\"], function(Plotly) { window.PLOTLYENV=window.PLOTLYENV || {};window.PLOTLYENV.BASE_URL=\"https://plot.ly\";Plotly.newPlot(\"94e846e3-e299-415e-8adb-cf9ef7d2cb05\", [{\"x\": [], \"y\": [], \"mode\": \"markers\", \"name\": \"data\", \"text\": []}], {}, {\"showLink\": true, \"linkText\": \"Export to plot.ly\"})});</script>"
      ]
     },
     "metadata": {},
     "output_type": "display_data"
    }
   ],
   "source": [
    "m_values = list(map(lambda step: step['m'],descent_steps))\n",
    "rss_result_values = list(map(lambda step: step['rss'], descent_steps))\n",
    "text_values = list(map(lambda step: 'cost curve slope: ' + str(step['slope']), descent_steps))\n",
    "gradient_trace = trace_values(m_values, rss_result_values, text=text_values)\n",
    "plot([gradient_trace])"
   ]
  },
  {
   "cell_type": "markdown",
   "metadata": {},
   "source": [
    "Taking a look at a plot of our trace, you can get a nice visualization of how our gradient descent function works.  It starts far away with $m = 0$, and the step size is relatively large, as is the slope of the cost curve.  As the $m$ value updates such that it approaches a minimumm of the RSS, and the slope of the cost curve decreases, the size of the step also decreases.     "
   ]
  }
 ],
 "metadata": {
  "kernelspec": {
   "display_name": "Python 3",
   "language": "python",
   "name": "python3"
  },
  "language_info": {
   "codemirror_mode": {
    "name": "ipython",
    "version": 3
   },
   "file_extension": ".py",
   "mimetype": "text/x-python",
   "name": "python",
   "nbconvert_exporter": "python",
   "pygments_lexer": "ipython3",
   "version": "3.6.4"
  }
 },
 "nbformat": 4,
 "nbformat_minor": 2
}
